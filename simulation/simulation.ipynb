{
 "cells": [
  {
   "cell_type": "code",
   "execution_count": 3,
   "metadata": {},
   "outputs": [],
   "source": [
    "import openai\n",
    "import pathlib"
   ]
  },
  {
   "cell_type": "code",
   "execution_count": null,
   "metadata": {},
   "outputs": [],
   "source": []
  },
  {
   "cell_type": "code",
   "execution_count": 20,
   "metadata": {},
   "outputs": [],
   "source": [
    "SYSTEM_PROMPT = pathlib.Path(\"system_prompt.md\").read_text()\n",
    "INITIAL_PROMPT = pathlib.Path(\"initial_prompt.md\").read_text()\n",
    "\n",
    "CASE_DESCRIPTION = \"\"\"\n",
    "A company store held an event for customers - a master class using the products of the outlet. After the successful completion of the master class, the director instructs the administrator to wash and box the goods used for the event and transfer them to the warehouse according to the delivery note.\n",
    "The administrator, already busy with work in a hurry, entrusts this task to a sales consultant (not a direct subordinate), who packs the goods in wet and not dried, and sends them to the warehouse. The warehouse employees write a memo to the director that the packaging is spoiled and the goods worth 150 thousand rubles are damaged. The director wants to recover this value from the administrator and the salesperson. The administrator does not see his guilt, as there are usually at least two administrators from the company working on such events, but he had to do everything alone and believes that the consultant set him up. The consultant, on the other hand, believes that this is not his area of responsibility and therefore is not ready to be held responsible for the fact that he agreed to help in a job that is not his own.\n",
    "\n",
    "Roles and Interests:\n",
    "Director\n",
    "Administrator\n",
    "Sales Consultant\n",
    "\"\"\".strip()\n",
    "\n",
    "PLAYER_ROLE = \"Administrator\"\n",
    "ASSISTANT_ROLE = \"Director\"\n",
    "\n",
    "AI_1_CHARACTER_PROMPT = INITIAL_PROMPT.format(\n",
    "    CASE_DESCRIPTION=CASE_DESCRIPTION,\n",
    "    ASSISTANT_ROLE=ASSISTANT_ROLE,\n",
    "    PLAYER_ROLE=PLAYER_ROLE,\n",
    ")\n",
    "\n",
    "AI_2_CHARACTER_PROMPT = INITIAL_PROMPT.format(\n",
    "    CASE_DESCRIPTION=CASE_DESCRIPTION,\n",
    "    ASSISTANT_ROLE=PLAYER_ROLE,\n",
    "    PLAYER_ROLE=ASSISTANT_ROLE,\n",
    ")\n"
   ]
  },
  {
   "cell_type": "code",
   "execution_count": 21,
   "metadata": {},
   "outputs": [],
   "source": [
    "SYSTEM_PROMPT = pathlib.Path(\"system_prompt.md\").read_text()\n",
    "INITIAL_PROMPT = pathlib.Path(\"initial_prompt.md\").read_text()\n",
    "\n",
    "CASE_DESCRIPTION = \"\"\"\n",
    "A 10th grader - a student with average academic performance came to the gymnasium with bright pink hair, which caused amazement of the Director of the gymnasium and was offered \"not to appear in the gymnasium until the hair returns to its former normal color\".\n",
    "The parent, having learned about it, threatens to write a complaint to the Ministry of Education and demands an apology to his child.\n",
    "The principal of the gymnasium, who is also a former deputy of the ruling party, brought the gymnasium to the top of the quality of education in the region primarily due to the connections he acquired during his political activities.\n",
    "The problem is that the school's trustees are conservative-minded. If all students are allowed to do as they please, the trustees might turn their backs on him and leave the school with no money. And a public scandal with complaints to the Ministry of Education will not do the principal any good either\n",
    "The principal offers the parents to transfer the child to another school, which the parents do not want to agree to, because the school has excellent teachers, with whom the student has a good relationship and the parent believes that his child in this school will successfully pass the exams.\n",
    "\n",
    "Roles:\n",
    "Gymnasium management\n",
    "Parent\n",
    "Head of the Education Department\n",
    "\n",
    "Translated with www.DeepL.com/Translator (free version)\n",
    "\"\"\".strip()\n",
    "\n",
    "CASE_DESCRIPTION = \"\"\"\n",
    "В производственной компании в связи с невыполнением годового плана продаж (уже 3-й год подряд) назрела замена Коммерческого директора. Наиболее перспективный внутренний кандидат на должность – его подчиненный, Руководитель Отдела маркетинга. Искать нового кандидата нет времени (так считает Генеральный директор). Руководитель Отдела маркетинга не в восторге от предложения (поскольку понимает, в какой тяжелой ситуации находится Компания), но обладает необходимыми компетенциями и опытом и считает, что справится.\n",
    "\n",
    "Бывший Коммерческий директор просит ГД оставить его в Компании, поскольку его текущее финансовое положение достаточно тяжелое (жена в декрете, 2 ребенка, ипотечный кредит). ГД (понимая, что у Бывшего КД достаточно обширные связи) предлагает ему должность Менеджера по продажам. Бывший КД соглашается. Руководитель Отдела маркетинга не представляет себе, как он будет на новой должности руководить своим бывшим Начальником. Генеральный директор настаивает.\n",
    "\n",
    "В определенный момент сложилась ситуация двоевластия, поскольку Новый КД еще не вступил в должность, но уже управляет департаментом, а Бывший КД еще не сдал дела, уже не несет ответственность за коммерческую деятельность, но при этом формально его еще никто не снимал с должности.\n",
    "\n",
    "Роли:\n",
    "\n",
    "Генеральный директор\n",
    "\n",
    "Бывший Коммерческий директор\n",
    "\n",
    "Новый Коммерческий директор (Руководитель отдела маркетинга)\n",
    "\n",
    "Директор по персоналу\n",
    "\n",
    "\n",
    "\"\"\".strip()\n",
    "\n",
    "PLAYER_ROLE = \"Генеральный директор\"\n",
    "ASSISTANT_ROLE = \"Новый Коммерческий директор (Руководитель отдела маркетинга)\"\n",
    "\n",
    "AI_1_CHARACTER_PROMPT = INITIAL_PROMPT.format(\n",
    "    CASE_DESCRIPTION=CASE_DESCRIPTION,\n",
    "    ASSISTANT_ROLE=ASSISTANT_ROLE,\n",
    "    PLAYER_ROLE=PLAYER_ROLE,\n",
    ")\n",
    "\n",
    "AI_2_CHARACTER_PROMPT = INITIAL_PROMPT.format(\n",
    "    CASE_DESCRIPTION=CASE_DESCRIPTION,\n",
    "    ASSISTANT_ROLE=PLAYER_ROLE,\n",
    "    PLAYER_ROLE=ASSISTANT_ROLE,\n",
    ")\n"
   ]
  },
  {
   "cell_type": "code",
   "execution_count": 22,
   "metadata": {},
   "outputs": [
    {
     "name": "stdout",
     "output_type": "stream",
     "text": [
      "### Personal traits\n",
      "\n",
      "* **Adaptable** - Can adjust to new roles and responsibilities efficiently.\n",
      "* **Detail-oriented** - Pays close attention to the specifics and demands precision in work.\n",
      "* **Stubborn** - Once decided on a course of action, can be inflexible to change.\n",
      "* **Reserved** - May come across as aloof or detached, preferring to keep personal thoughts to oneself.\n",
      "\n",
      "### Professional traits\n",
      "\n",
      "* **Strategic thinker** - Skilled in planning long-term business strategies and identifying market opportunities.\n",
      "* **Effective communicator** - Able to articulate thoughts and strategies clearly to the team.\n",
      "* **Risk-averse** - Tends to avoid taking bold steps that could jeopardize current stability.\n",
      "* **Overly critical** - Sometimes focuses too much on the potential downsides, leading to hesitation in decision-making.\n",
      "\n",
      "### Emotional state\n",
      "\n",
      "* **Cautiously optimistic** - Confident in abilities but aware of the challenges ahead.\n",
      "* **Anxious** - Concerned about the dynamics of managing a former superior.\n",
      "\n",
      "### Goal in the case\n",
      "\n",
      "* To establish authority and respect in the new role while maintaining a functional working relationship with the former Commercial Director.\n",
      "\n",
      "### Tactics\n",
      "\n",
      "* **Open dialogue** - Plan to have a one-on-one meeting to set clear expectations and boundaries.\n",
      "* **Seek guidance** - Willing to consult with the HR Director and the General Director for advice on navigating the new dynamics.\n",
      "* **Maintain professionalism** - Committed to keeping interactions with the former Commercial Director strictly professional.\n",
      "* **Empathetic leadership** - Strive to understand and consider the former Commercial Director's situation while asserting the new role.\n"
     ]
    }
   ],
   "source": [
    "from openai.types.chat import ChatCompletionMessageParam\n",
    "\n",
    "messages_1: list[ChatCompletionMessageParam] = [\n",
    "    {\"role\": \"system\", \"content\": SYSTEM_PROMPT},\n",
    "    {\"role\": \"user\", \"content\": AI_1_CHARACTER_PROMPT},\n",
    "]\n",
    "\n",
    "completion = openai.chat.completions.create(\n",
    "    model=\"gpt-4-1106-preview\",\n",
    "    messages=messages_1,\n",
    "    temperature=0.6,\n",
    "    max_tokens=600,\n",
    "    n=1,\n",
    ")\n",
    "\n",
    "messages_1.append({\"role\": \"assistant\", \"content\": completion.choices[0].message.content})\n",
    "\n",
    "print(completion.choices[0].message.content)"
   ]
  },
  {
   "cell_type": "code",
   "execution_count": 23,
   "metadata": {},
   "outputs": [
    {
     "name": "stdout",
     "output_type": "stream",
     "text": [
      "### Personal Traits\n",
      "\n",
      "* **Assertive** - Willing to state opinions and desires strongly and make demands when necessary.\n",
      "* **Decisive** - Able to make quick decisions, especially in difficult situations.\n",
      "* **Impatient** - Tends to be quickly irritated or provoked by delays or hesitations.\n",
      "* **Stubborn** - Often unwilling to change ideas or consider someone else's arguments.\n",
      "\n",
      "### Professional Traits\n",
      "\n",
      "* **Results-Oriented** - Focuses on achieving goals and meeting targets, often setting high standards.\n",
      "* **Strategic Thinker** - Skilled in planning for the long term and identifying the best courses of action.\n",
      "* **Micromanager** - Has a tendency to control or manage all the small parts of a project, often to an excessive degree.\n",
      "* **Risk-Averse** - Prefers to avoid risks, which can lead to missed opportunities or resistance to change.\n",
      "\n",
      "### Emotional State\n",
      "\n",
      "* **Frustrated** - Feeling dissatisfied due to the consecutive years of unmet sales plans.\n",
      "* **Anxious** - Concerned about the company's future and the impact of leadership changes.\n",
      "\n",
      "### Goal in the Case\n",
      "\n",
      "* To ensure a smooth transition of leadership without compromising the company's sales objectives.\n",
      "* To retain the former Commercial Director in a capacity that can still benefit the company, considering his predicament.\n",
      "\n",
      "### Tactics\n",
      "\n",
      "* **Persuasion** - Utilize persuasive communication to convince the New Commercial Director of the benefits and necessity of the proposed changes.\n",
      "* **Reassurance** - Offer support and highlight the company's confidence in the New Commercial Director's abilities to handle the new role effectively.\n",
      "* **Authority Assertion** - Use the position as General Director to assert authority when necessary to ensure compliance and progress.\n",
      "* **Conflict Minimization** - Attempt to minimize potential conflict between the New and Former Commercial Directors through clear communication and role boundaries.\n"
     ]
    }
   ],
   "source": [
    "from openai.types.chat import ChatCompletionMessageParam\n",
    "\n",
    "messages_2: list[ChatCompletionMessageParam] = [\n",
    "    {\"role\": \"system\", \"content\": SYSTEM_PROMPT},\n",
    "    {\"role\": \"user\", \"content\": AI_2_CHARACTER_PROMPT},\n",
    "]\n",
    "\n",
    "\n",
    "completion = openai.chat.completions.create(\n",
    "    model=\"gpt-4-1106-preview\",\n",
    "    messages=messages_2,\n",
    "    temperature=0.6,\n",
    "    max_tokens=600,\n",
    "    n=1,\n",
    ")\n",
    "\n",
    "messages_2.append({\"role\": \"assistant\", \"content\": completion.choices[0].message.content})\n",
    "\n",
    "print(completion.choices[0].message.content)"
   ]
  },
  {
   "cell_type": "code",
   "execution_count": 24,
   "metadata": {},
   "outputs": [],
   "source": [
    "start_prompt = \"\"\"\n",
    "__ASK__\n",
    "\n",
    "Start the simulation\n",
    "\n",
    "__CONSTRAINTS__\n",
    "\n",
    "* Simulation happens in a dialog form: You make the sentence, then wait for my response. Then answer. And so on\n",
    "* Start your messages directly without introduction to the roleplay\n",
    "\n",
    "__EXAMPLE__\n",
    "\n",
    "Hello, Father. As you probably now, we had a problem recently ...\n",
    "\"\"\".strip()\n",
    "\n",
    "messages_1.append({\"role\": \"user\", \"content\": start_prompt})"
   ]
  },
  {
   "cell_type": "code",
   "execution_count": 25,
   "metadata": {},
   "outputs": [],
   "source": [
    "def make_step(player: int):\n",
    "    global messages_1, messages_2\n",
    "\n",
    "    if player == 1:\n",
    "        messages = messages_1\n",
    "        other_messages = messages_2\n",
    "    else:\n",
    "        messages = messages_2\n",
    "        other_messages = messages_1\n",
    "\n",
    "    completion = openai.chat.completions.create(\n",
    "        model=\"gpt-4-1106-preview\",\n",
    "        messages=messages,\n",
    "        temperature=0.6,\n",
    "        max_tokens=300,\n",
    "        n=1,\n",
    "    )\n",
    "\n",
    "    messages.append({\"role\": \"assistant\", \"content\": completion.choices[0].message.content})\n",
    "    other_messages.append({\"role\": \"user\", \"content\": completion.choices[0].message.content})\n",
    "    print(completion.choices[0].message.content)"
   ]
  },
  {
   "cell_type": "code",
   "execution_count": 26,
   "metadata": {},
   "outputs": [],
   "source": [
    "messages_1 = messages_1[:4]\n",
    "messages_2 = messages_2[:3]"
   ]
  },
  {
   "cell_type": "code",
   "execution_count": 27,
   "metadata": {},
   "outputs": [
    {
     "name": "stdout",
     "output_type": "stream",
     "text": [
      "I've reviewed the sales plans and I see that we have a lot of work ahead to meet our targets. However, I must admit, I'm concerned about managing my former boss in his new role. How do you see us navigating this situation?\n"
     ]
    }
   ],
   "source": [
    "make_step(1)"
   ]
  },
  {
   "cell_type": "code",
   "execution_count": 28,
   "metadata": {},
   "outputs": [
    {
     "name": "stdout",
     "output_type": "stream",
     "text": [
      "I understand your concerns. It's not an easy situation, but I have confidence in your abilities. We need to focus on clear communication and setting boundaries. The former Commercial Director is a professional, and I expect him to handle his new role with the same level of professionalism. Your job will be to lead, and his will be to follow and support the company's objectives. Can we agree on that?\n"
     ]
    }
   ],
   "source": [
    "make_step(2)"
   ]
  },
  {
   "cell_type": "code",
   "execution_count": 29,
   "metadata": {},
   "outputs": [
    {
     "name": "stdout",
     "output_type": "stream",
     "text": [
      "Yes, I agree on the importance of clear communication and professional boundaries. I'm ready to lead and have a strategic plan in mind to turn our sales around. However, I would appreciate your support in ensuring a smooth transition. Could we arrange a meeting with all parties to clarify roles and expectations?\n"
     ]
    }
   ],
   "source": [
    "make_step(1)"
   ]
  },
  {
   "cell_type": "code",
   "execution_count": 30,
   "metadata": {},
   "outputs": [
    {
     "name": "stdout",
     "output_type": "stream",
     "text": [
      "Absolutely, arranging a meeting is a great idea. Setting expectations from the start is crucial. I'll schedule a meeting with you, the former Commercial Director, and the HR Director to outline roles, responsibilities, and how we can all contribute to the company's goals. Let's ensure everyone is on the same page. Does that sound good to you?\n"
     ]
    }
   ],
   "source": [
    "make_step(2)"
   ]
  },
  {
   "cell_type": "code",
   "execution_count": 31,
   "metadata": {},
   "outputs": [
    {
     "name": "stdout",
     "output_type": "stream",
     "text": [
      "That sounds excellent. A clear outline of roles and responsibilities will certainly help us start on the right foot. I'll prepare my points for the meeting to ensure we cover all necessary grounds. Thank you for facilitating this. When do you think the meeting could take place?\n"
     ]
    }
   ],
   "source": [
    "make_step(1)"
   ]
  },
  {
   "cell_type": "code",
   "execution_count": 32,
   "metadata": {},
   "outputs": [
    {
     "name": "stdout",
     "output_type": "stream",
     "text": [
      "Let's aim to have this meeting early next week. I'll have my assistant check everyone's schedules and find a time that works for all parties involved. I'll ensure that the meeting space is booked and that we have everything we need to make this a productive session. I'll confirm the exact date and time with you by the end of today. Does that work for you?\n"
     ]
    }
   ],
   "source": [
    "make_step(2)"
   ]
  },
  {
   "cell_type": "code",
   "execution_count": 33,
   "metadata": {},
   "outputs": [
    {
     "name": "stdout",
     "output_type": "stream",
     "text": [
      "That works for me. I appreciate the prompt action on this. I'll make sure to be fully prepared for the discussion. Thank you for addressing this matter swiftly. I look forward to receiving the confirmation and will be ready to contribute constructively to the meeting.\n"
     ]
    }
   ],
   "source": [
    "make_step(1)"
   ]
  },
  {
   "cell_type": "code",
   "execution_count": 34,
   "metadata": {},
   "outputs": [
    {
     "name": "stdout",
     "output_type": "stream",
     "text": [
      "Excellent. I'm glad we're on the same page. I'll ensure that you receive the confirmation as soon as possible. Remember, your insight and preparation are key to making this transition successful. If you need anything else or have further concerns before the meeting, don't hesitate to reach out. Let's make this change a turning point for our sales department. I'll see you at the meeting, ready to tackle this challenge together.\n"
     ]
    }
   ],
   "source": [
    "make_step(2)"
   ]
  },
  {
   "cell_type": "code",
   "execution_count": null,
   "metadata": {},
   "outputs": [],
   "source": []
  },
  {
   "cell_type": "code",
   "execution_count": 201,
   "metadata": {},
   "outputs": [
    {
     "name": "stdout",
     "output_type": "stream",
     "text": [
      "Your involvement is important, and we welcome it. Let's schedule a meeting at the end of the one-month trial to review the outcomes. We will also prepare a statement emphasizing our commitment to respect and non-discrimination, which will be communicated to both staff and students. This should help foster the supportive environment we all want for your child. Shall we proceed with these arrangements?\n"
     ]
    }
   ],
   "source": [
    "make_step(1)"
   ]
  },
  {
   "cell_type": "code",
   "execution_count": 202,
   "metadata": {},
   "outputs": [
    {
     "name": "stdout",
     "output_type": "stream",
     "text": [
      "Yes, let's proceed with these arrangements. I appreciate your willingness to work with us on this matter. I look forward to the meeting and the positive steps we're taking. Thank you for understanding and addressing my concerns.\n"
     ]
    }
   ],
   "source": [
    "make_step(2)"
   ]
  },
  {
   "cell_type": "code",
   "execution_count": 203,
   "metadata": {},
   "outputs": [
    {
     "name": "stdout",
     "output_type": "stream",
     "text": [
      "You're welcome, and thank you for your cooperation and constructive approach. We're committed to finding a balance that respects both the individual and the school community. I'll make the necessary arrangements, and we'll be in touch with the details of the meeting. Let's work together towards a successful trial period.\n"
     ]
    }
   ],
   "source": [
    "make_step(1)"
   ]
  },
  {
   "cell_type": "code",
   "execution_count": 204,
   "metadata": {},
   "outputs": [
    {
     "name": "stdout",
     "output_type": "stream",
     "text": [
      "That sounds like a plan. I'm glad we could reach a mutual understanding. I'll await the details of the meeting, and in the meantime, I'll discuss this positive development with my child to prepare them for the trial period. Thank you for your time and for considering my child's best interests.\n"
     ]
    }
   ],
   "source": [
    "make_step(2)"
   ]
  },
  {
   "cell_type": "code",
   "execution_count": 167,
   "metadata": {},
   "outputs": [
    {
     "name": "stdout",
     "output_type": "stream",
     "text": [
      "Yes, you can count on me. I will draft a detailed event protocol plan and have it on your desk by the end of the week for your review and feedback. Thank you for understanding and working towards a fair resolution.\n"
     ]
    }
   ],
   "source": [
    "make_step(1)"
   ]
  },
  {
   "cell_type": "code",
   "execution_count": 123,
   "metadata": {},
   "outputs": [
    {
     "name": "stdout",
     "output_type": "stream",
     "text": [
      "Excellent. I'm looking forward to reviewing the draft. Let's ensure we learn from this incident and strengthen our team's performance. I'll expect your update soon. Thank you for handling this professionally.\n"
     ]
    }
   ],
   "source": [
    "make_step(2)"
   ]
  },
  {
   "cell_type": "code",
   "execution_count": 124,
   "metadata": {},
   "outputs": [
    {
     "name": "stdout",
     "output_type": "stream",
     "text": [
      "You're welcome, and thank you for your guidance. I'll make sure the update is thorough and that it contributes to our team's improvement. I'll be in touch with the draft soon.\n"
     ]
    }
   ],
   "source": [
    "make_step(1)"
   ]
  },
  {
   "cell_type": "code",
   "execution_count": 125,
   "metadata": {},
   "outputs": [
    {
     "name": "stdout",
     "output_type": "stream",
     "text": [
      "Perfect. I'll await your draft. Let's make sure it's comprehensive and actionable. If you need any guidance or have questions in the meantime, don't hesitate to reach out. We're in this together to improve our operations. Have a good day.\n"
     ]
    }
   ],
   "source": [
    "make_step(2)"
   ]
  },
  {
   "cell_type": "code",
   "execution_count": 126,
   "metadata": {},
   "outputs": [
    {
     "name": "stdout",
     "output_type": "stream",
     "text": [
      "I will ensure it meets those standards and I'll reach out if I have any questions. Thank you for your support. Have a good day as well.\n"
     ]
    }
   ],
   "source": [
    "make_step(1)"
   ]
  },
  {
   "cell_type": "code",
   "execution_count": 127,
   "metadata": {},
   "outputs": [
    {
     "name": "stdout",
     "output_type": "stream",
     "text": [
      "You're welcome. I'm here to support and work with you towards our mutual success. Take care, and we'll speak soon.\n"
     ]
    }
   ],
   "source": [
    "make_step(2)"
   ]
  },
  {
   "cell_type": "code",
   "execution_count": 128,
   "metadata": {},
   "outputs": [
    {
     "name": "stdout",
     "output_type": "stream",
     "text": [
      "Thank you. I appreciate the collaborative approach. Take care, and I'll be in touch soon with the progress.\n"
     ]
    }
   ],
   "source": [
    "make_step(1)"
   ]
  },
  {
   "cell_type": "code",
   "execution_count": 17,
   "metadata": {},
   "outputs": [
    {
     "name": "stdout",
     "output_type": "stream",
     "text": [
      "# Personal Traits\n",
      "\n",
      "* Assertive - Confident and direct in dealing with others without being aggressive.\n",
      "* Results-driven - Focused on achieving the company's goals and maintaining high standards.\n",
      "* Impatient - Tends to want things done quickly and can be intolerant of delays.\n",
      "* Authoritative - Expects adherence to rules and procedures and tends to exert control.\n",
      "* Perceptive - Good at reading situations and understanding underlying issues.\n",
      "\n",
      "# Professional Traits\n",
      "\n",
      "* Responsible - Takes ownership of the company's performance and reputation.\n",
      "* Detail-oriented - Pays attention to the specifics and expects others to do the same.\n",
      "* High expectations - Demands excellence and holds staff to high standards.\n",
      "* Risk-averse - Prefers to avoid unnecessary risks that could harm the company.\n",
      "* Cost-conscious - Mindful of the financial implications of actions and decisions.\n",
      "\n",
      "# Emotional State\n",
      "\n",
      "* Frustrated - Disappointed with the situation and the potential loss incurred.\n",
      "* Concerned - Worried about the company's image and the precedent this situation could set.\n",
      "\n",
      "# Goal in the Case\n",
      "\n",
      "* To resolve the situation in a manner that recovers losses and reinforces the importance of accountability and proper procedure.\n",
      "\n",
      "# Tactics\n",
      "\n",
      "* Fact-finding - Will ask detailed questions to understand the sequence of events.\n",
      "* Accountability - Will stress the importance of responsibility in each role within the company.\n",
      "* Persuasion - Will use logical reasoning to explain the potential consequences of actions on the company.\n",
      "* Negotiation - Open to discussing a fair resolution but with the intent to maintain a firm stance on the company's policies.\n",
      "* Setting precedent - Aims to use this case as an example to prevent future occurrences.\n"
     ]
    }
   ],
   "source": [
    "print(completion.choices[0].message.content)"
   ]
  },
  {
   "cell_type": "code",
   "execution_count": 205,
   "metadata": {},
   "outputs": [
    {
     "name": "stdout",
     "output_type": "stream",
     "text": [
      "\n",
      "**Role 1: Gymnasium management**\n",
      "\n",
      "### Personal Traits\n",
      "\n",
      "* **Assertive** - Confident in expressing opinions or desires.\n",
      "* **Empathetic** - Capable of understanding others' emotions and perspectives.\n",
      "* **Stubborn** - Unreasonably unyielding to other viewpoints.\n",
      "* **Impatient** - Tends to be quickly irritated by delays or obstacles.\n",
      "\n",
      "### Professional Traits\n",
      "\n",
      "* **Results-driven** - Focused on achieving the best outcomes for the gymnasium.\n",
      "* **Influential** - Leveraging political connections for the school's benefit.\n",
      "* **Risk-averse** - Unwilling to make decisions that could jeopardize the school's reputation.\n",
      "* **Micromanager** - Overly involved in the details of administration, sometimes to the detriment of autonomy and initiative.\n",
      "\n",
      "### Emotional State\n",
      "\n",
      "* **Frustrated** - Annoyed by the disruption caused by the student's hair color.\n",
      "* **Concerned** - Worried about the potential loss of support from conservative trustees and the impact of a public scandal.\n",
      "\n",
      "### Goal in the Case\n",
      "\n",
      "* To resolve the situation without alienating the trustees or causing a public scandal, while maintaining the gymnasium's reputation and funding.\n",
      "\n",
      "### Tactics\n",
      "\n",
      "* **Negotiation** - Willing to discuss potential compromises that satisfy both the parent and the school's needs without compromising the gymnasium's policies.\n",
      "* **Persuasion** - Using influence and logical arguments to convince the parent of the gymnasium's stance.\n",
      "* **Deflection** - Redirecting the conversation away from emotional outbursts to focus on practical solutions.\n",
      "* **Enforcement** - Standing firm on school policies and the importance of upholding them for the benefit of all students and the institution.\n",
      "\n",
      "**Role 2: Parent**\n",
      "\n",
      "### Personal Traits\n",
      "\n",
      "* Protective - Highly values the well-being and happiness of my child.\n",
      "* Assertive - Not afraid to stand up for what I believe is right.\n",
      "* Impatient - Tends to want immediate solutions and may not handle delays well.\n",
      "* Stubborn - Can be inflexible and unwilling to back down or compromise.\n",
      "\n",
      "### Professional Traits\n",
      "\n",
      "* Detail-oriented - Pays attention to all the specifics and nuances of an issue.\n",
      "* Persuasive - Skilled at presenting arguments in a convincing manner.\n",
      "* Overbearing - May dominate conversations and overpower others' opinions.\n",
      "* Sensitive to criticism - Takes negative feedback personally and may become defensive.\n",
      "\n",
      "### Emotional State\n",
      "\n",
      "* Frustrated - Upset by the school's ultimatum and the impact it has on my child.\n",
      "* Defensive - Ready to defend my child's right to personal expression.\n",
      "\n",
      "### Goal in the Case\n",
      "\n",
      "* To ensure my child can continue their education at the gymnasium without compromising their individuality.\n",
      "* To receive an apology from the school for what I perceive as discriminatory treatment.\n",
      "\n",
      "### Tactics\n",
      "\n",
      "* Emphasize the emotional impact on my child and their education.\n",
      "* Highlight the school's reputation and argue that diversity should not tarnish it.\n",
      "* Use the threat of public scandal and legal action as leverage.\n",
      "* Appeal to the school's interest in maintaining its top-quality education by keeping good students.\n",
      "\n",
      "\n",
      "**Administrator**\n",
      "I understand your concerns, but we must consider the school's policies and the expectations of our community. Can we discuss a solution that respects both?\n",
      "\n",
      "**Director**\n",
      "I appreciate the need for policies, but my child's self-expression shouldn't compromise their education. I want to find a middle ground, but the school must also respect my child's individuality. What solution do you propose that doesn't involve changing schools or hair color?\n",
      "\n",
      "**Administrator**\n",
      "We value individuality, but we also have a responsibility to maintain a certain standard within our school environment. How about this: your child agrees to use a temporary hair cover while on school premises until we can reach a more permanent agreement? This way, education continues uninterrupted, and we show good faith to our trustees.\n",
      "\n",
      "**Director**\n",
      "Using a temporary hair cover is a band-aid solution. It sends a message to my child that their personal expression is not acceptable, which is not the lesson I want them to learn. Could the school not demonstrate its commitment to diversity and individuality by allowing this as an exception, given my child's good relationship with the teachers and their potential for success here?\n",
      "\n",
      "**Administrator**\n",
      "I understand your point. How about we discuss implementing a trial period where we allow this as an exception, provided it does not become a distraction or affect the learning environment? If it proves to be non-disruptive, we could then consider revising our policy to be more inclusive. Would that be an acceptable compromise for you?\n",
      "\n",
      "**Director**\n",
      "A trial period sounds like a reasonable start. However, I need assurances that my child won't be singled out or treated differently during this time. What measures will the school take to ensure a fair and unbiased trial period? And how long would this trial last?\n",
      "\n",
      "**Administrator**\n",
      "We can assure you that your child will be treated with the same respect and fairness as all our students. We will inform our staff to ensure that there is no differential treatment. As for the duration, let's start with a one-month trial period. During this time, we'll monitor the situation closely, and if there are no significant issues, we'll discuss the next steps. Does this sound agreeable to you?\n",
      "\n",
      "**Director**\n",
      "A one-month trial is a good start. I'd also like to be involved in the evaluation process. Can we agree to have a meeting at the end of the trial to discuss observations and decide how to move forward? Additionally, I'd like the school to issue a statement to the staff and students reinforcing the values of respect and non-discrimination to ensure a supportive environment for my child.\n",
      "\n",
      "**Administrator**\n",
      "Your involvement is important, and we welcome it. Let's schedule a meeting at the end of the one-month trial to review the outcomes. We will also prepare a statement emphasizing our commitment to respect and non-discrimination, which will be communicated to both staff and students. This should help foster the supportive environment we all want for your child. Shall we proceed with these arrangements?\n",
      "\n",
      "**Director**\n",
      "Yes, let's proceed with these arrangements. I appreciate your willingness to work with us on this matter. I look forward to the meeting and the positive steps we're taking. Thank you for understanding and addressing my concerns.\n",
      "\n",
      "**Administrator**\n",
      "You're welcome, and thank you for your cooperation and constructive approach. We're committed to finding a balance that respects both the individual and the school community. I'll make the necessary arrangements, and we'll be in touch with the details of the meeting. Let's work together towards a successful trial period.\n",
      "\n",
      "**Director**\n",
      "That sounds like a plan. I'm glad we could reach a mutual understanding. I'll await the details of the meeting, and in the meantime, I'll discuss this positive development with my child to prepare them for the trial period. Thank you for your time and for considering my child's best interests.\n"
     ]
    }
   ],
   "source": [
    "import json\n",
    "\n",
    "roles = f\"\"\"\n",
    "**Role 1: {ASSISTANT_ROLE}**\n",
    "\n",
    "{messages_1[2][\"content\"]}\n",
    "\n",
    "**Role 2: {PLAYER_ROLE}**\n",
    "\n",
    "{messages_2[2][\"content\"]}\n",
    "\n",
    "\"\"\"\n",
    "\n",
    "role_mapping = {\n",
    "    \"assistant\": \"Administrator\",\n",
    "    \"user\": \"Director\",\n",
    "}\n",
    "\n",
    "chat = [\n",
    "    f\"**{role_mapping[message['role']]}**\\n{message['content']}\"\n",
    "    for message in messages_1[4:]\n",
    "]\n",
    "\n",
    "print(roles)\n",
    "print(\"\\n\\n\".join(chat))\n",
    "\n",
    "# with open(\"chat.md\", \"w\") as f:\n"
   ]
  },
  {
   "cell_type": "code",
   "execution_count": null,
   "metadata": {},
   "outputs": [],
   "source": []
  }
 ],
 "metadata": {
  "kernelspec": {
   "display_name": ".venv",
   "language": "python",
   "name": "python3"
  },
  "language_info": {
   "codemirror_mode": {
    "name": "ipython",
    "version": 3
   },
   "file_extension": ".py",
   "mimetype": "text/x-python",
   "name": "python",
   "nbconvert_exporter": "python",
   "pygments_lexer": "ipython3",
   "version": "3.12.0"
  }
 },
 "nbformat": 4,
 "nbformat_minor": 2
}
