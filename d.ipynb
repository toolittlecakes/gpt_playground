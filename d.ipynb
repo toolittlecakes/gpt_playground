{
 "cells": [
  {
   "cell_type": "code",
   "execution_count": 4,
   "metadata": {},
   "outputs": [],
   "source": [
    "from openai import OpenAI, AsyncOpenAI\n",
    "client = AsyncOpenAI()\n"
   ]
  },
  {
   "cell_type": "code",
   "execution_count": 9,
   "metadata": {},
   "outputs": [
    {
     "name": "stdout",
     "output_type": "stream",
     "text": [
      "As an AI, I don't have personal thoughts or feelings. I am programmed to assist and provide information to the best of my abilities."
     ]
    }
   ],
   "source": [
    "async def main():\n",
    "    stream = await client.chat.completions.create(\n",
    "        model='gpt-3.5-turbo',\n",
    "        messages=[\n",
    "            {'role': 'user', 'content': \"What do you think about yourself?\"}\n",
    "        ],\n",
    "        temperature=0,\n",
    "        stream=True  # this time, we set stream=True\n",
    "    )\n",
    "\n",
    "    async for chunk in stream:\n",
    "        print(chunk.choices[0].delta.content or \"\", end=\"\")\n",
    "\n",
    "await main()"
   ]
  },
  {
   "cell_type": "code",
   "execution_count": 11,
   "metadata": {},
   "outputs": [
    {
     "name": "stdout",
     "output_type": "stream",
     "text": [
      "|\n",
      "|\n",
      "This|\n",
      " is|\n",
      " a|\n",
      " test|\n",
      ".|\n"
     ]
    }
   ],
   "source": [
    "from openai import OpenAI\n",
    "\n",
    "client = OpenAI()\n",
    "\n",
    "stream = client.chat.completions.create(\n",
    "    model=\"gpt-4\",\n",
    "    messages=[{\"role\": \"user\", \"content\": \"Say this is a test\"}],\n",
    "    stream=True,\n",
    ")\n",
    "for chunk in stream:\n",
    "    print(\"|\")\n",
    "    print(chunk.choices[0].delta.content or \"\", end=\"\")"
   ]
  },
  {
   "cell_type": "code",
   "execution_count": 18,
   "metadata": {},
   "outputs": [],
   "source": [
    "client = AsyncOpenAI()\n",
    "\n",
    "async def generate_cheesecake_names():\n",
    "    async for chunk in await client.chat.completions.create(\n",
    "        model=\"gpt-3.5-turbo\",\n",
    "        messages=[{\n",
    "            \"role\": \"user\",\n",
    "            \"content\": \"Generate a list of 30 great names for sentient cheesecakes that teach SQL\"\n",
    "        }],\n",
    "        stream=True,\n",
    "    ):\n",
    "        content = chunk.choices[0].delta.content\n",
    "        if content is not None:\n",
    "            yield content"
   ]
  },
  {
   "cell_type": "code",
   "execution_count": 19,
   "metadata": {},
   "outputs": [
    {
     "name": "stdout",
     "output_type": "stream",
     "text": [
      "1. Query Cheesecake\n",
      "2. Code Crunch Cheesecake\n",
      "3. SQL Sensei Cheesecake\n",
      "4. TechTreat Cheesecake\n",
      "5. Data Guru Cheesecake\n",
      "6. Query Master Cheesecake\n",
      "7. CodeConnoisseur Cheesecake\n",
      "8. TechWhiz Cheesecake\n",
      "9. SQL Savvy Cheesecake\n",
      "10. ByteBaker Cheesecake\n",
      "11. DataDiva Cheesecake\n",
      "12. QueryQuill Cheesecake\n",
      "13. ByteBliss Cheesecake\n",
      "14. SQL Scholar Cheesecake\n",
      "15. CodeCustodian Cheesecake\n",
      "16. TechTycoon Cheesecake\n",
      "17. DataDynamo Cheesecake\n",
      "18. QueryQuirks Cheesecake\n",
      "19. ByteBoss Cheesecake\n",
      "20. SQL Sage Cheesecake\n",
      "21. CodeCommander Cheesecake\n",
      "22. TechTrailblazer Cheesecake\n",
      "23. DataDelight Cheesecake\n",
      "24. QueryWhisperer Cheesecake\n",
      "25. ByteBrilliance Cheesecake\n",
      "26. SQL Sorcerer Cheesecake\n",
      "27. CodeCaptain Cheesecake\n",
      "28. TechInstructor Cheesecake\n",
      "29. DataDemigod Cheesecake\n",
      "30. QueryMaestro Cheesecake"
     ]
    }
   ],
   "source": [
    "async for cheesecake_name in generate_cheesecake_names():\n",
    "    print(cheesecake_name, end=\"\")"
   ]
  },
  {
   "cell_type": "code",
   "execution_count": null,
   "metadata": {},
   "outputs": [],
   "source": []
  }
 ],
 "metadata": {
  "kernelspec": {
   "display_name": ".venv",
   "language": "python",
   "name": "python3"
  },
  "language_info": {
   "codemirror_mode": {
    "name": "ipython",
    "version": 3
   },
   "file_extension": ".py",
   "mimetype": "text/x-python",
   "name": "python",
   "nbconvert_exporter": "python",
   "pygments_lexer": "ipython3",
   "version": "3.12.0"
  }
 },
 "nbformat": 4,
 "nbformat_minor": 2
}
